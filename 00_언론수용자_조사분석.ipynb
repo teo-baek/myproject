{
 "cells": [
  {
   "cell_type": "markdown",
   "id": "5af01ff6",
   "metadata": {},
   "source": [
    "# 언론 수용자 설문 조사 분석"
   ]
  },
  {
   "cell_type": "code",
   "execution_count": 100,
   "id": "b1bfd3ae",
   "metadata": {},
   "outputs": [],
   "source": [
    "import pandas as pd\n",
    "import numpy as np"
   ]
  },
  {
   "cell_type": "markdown",
   "id": "b8e256de",
   "metadata": {},
   "source": [
    "# 1. 데이터 불러오기"
   ]
  },
  {
   "cell_type": "code",
   "execution_count": 101,
   "id": "f4d03d1e",
   "metadata": {},
   "outputs": [
    {
     "data": {
      "text/html": [
       "<div>\n",
       "<style scoped>\n",
       "    .dataframe tbody tr th:only-of-type {\n",
       "        vertical-align: middle;\n",
       "    }\n",
       "\n",
       "    .dataframe tbody tr th {\n",
       "        vertical-align: top;\n",
       "    }\n",
       "\n",
       "    .dataframe thead th {\n",
       "        text-align: right;\n",
       "    }\n",
       "</style>\n",
       "<table border=\"1\" class=\"dataframe\">\n",
       "  <thead>\n",
       "    <tr style=\"text-align: right;\">\n",
       "      <th></th>\n",
       "      <th>ID</th>\n",
       "      <th>SQ1</th>\n",
       "      <th>DQ2</th>\n",
       "      <th>DQ3</th>\n",
       "      <th>Q1</th>\n",
       "      <th>Q2A_1</th>\n",
       "      <th>Q2B_1</th>\n",
       "      <th>Q3_1_1</th>\n",
       "      <th>Q3_1_2</th>\n",
       "      <th>Q3_2_1</th>\n",
       "      <th>...</th>\n",
       "      <th>BQ2</th>\n",
       "      <th>BQ3</th>\n",
       "      <th>BQ4</th>\n",
       "      <th>BQ5</th>\n",
       "      <th>BQ6</th>\n",
       "      <th>BQ7</th>\n",
       "      <th>BQ8</th>\n",
       "      <th>BQ9</th>\n",
       "      <th>BQ10</th>\n",
       "      <th>WT</th>\n",
       "    </tr>\n",
       "  </thead>\n",
       "  <tbody>\n",
       "    <tr>\n",
       "      <th>0</th>\n",
       "      <td>1010</td>\n",
       "      <td>1</td>\n",
       "      <td>2</td>\n",
       "      <td>34</td>\n",
       "      <td>2</td>\n",
       "      <td></td>\n",
       "      <td></td>\n",
       "      <td></td>\n",
       "      <td></td>\n",
       "      <td></td>\n",
       "      <td>...</td>\n",
       "      <td>2</td>\n",
       "      <td>2</td>\n",
       "      <td>6</td>\n",
       "      <td>8</td>\n",
       "      <td>3</td>\n",
       "      <td>3</td>\n",
       "      <td>2</td>\n",
       "      <td>1</td>\n",
       "      <td>2</td>\n",
       "      <td>1.568452</td>\n",
       "    </tr>\n",
       "    <tr>\n",
       "      <th>1</th>\n",
       "      <td>1014</td>\n",
       "      <td>1</td>\n",
       "      <td>2</td>\n",
       "      <td>36</td>\n",
       "      <td>2</td>\n",
       "      <td></td>\n",
       "      <td></td>\n",
       "      <td></td>\n",
       "      <td></td>\n",
       "      <td></td>\n",
       "      <td>...</td>\n",
       "      <td>2</td>\n",
       "      <td>3</td>\n",
       "      <td>10</td>\n",
       "      <td>8</td>\n",
       "      <td>3</td>\n",
       "      <td>2</td>\n",
       "      <td>1</td>\n",
       "      <td>2</td>\n",
       "      <td>2</td>\n",
       "      <td>1.568452</td>\n",
       "    </tr>\n",
       "    <tr>\n",
       "      <th>2</th>\n",
       "      <td>1017</td>\n",
       "      <td>1</td>\n",
       "      <td>1</td>\n",
       "      <td>36</td>\n",
       "      <td>2</td>\n",
       "      <td></td>\n",
       "      <td></td>\n",
       "      <td></td>\n",
       "      <td></td>\n",
       "      <td></td>\n",
       "      <td>...</td>\n",
       "      <td>1</td>\n",
       "      <td>3</td>\n",
       "      <td>6</td>\n",
       "      <td>5</td>\n",
       "      <td>2</td>\n",
       "      <td>2</td>\n",
       "      <td>4</td>\n",
       "      <td>1</td>\n",
       "      <td>2</td>\n",
       "      <td>1.204343</td>\n",
       "    </tr>\n",
       "    <tr>\n",
       "      <th>3</th>\n",
       "      <td>1020</td>\n",
       "      <td>1</td>\n",
       "      <td>2</td>\n",
       "      <td>29</td>\n",
       "      <td>2</td>\n",
       "      <td></td>\n",
       "      <td></td>\n",
       "      <td></td>\n",
       "      <td></td>\n",
       "      <td></td>\n",
       "      <td>...</td>\n",
       "      <td>1</td>\n",
       "      <td>2</td>\n",
       "      <td>6</td>\n",
       "      <td>3</td>\n",
       "      <td>2</td>\n",
       "      <td>2</td>\n",
       "      <td>1</td>\n",
       "      <td>2</td>\n",
       "      <td>2</td>\n",
       "      <td>0.916556</td>\n",
       "    </tr>\n",
       "    <tr>\n",
       "      <th>4</th>\n",
       "      <td>1023</td>\n",
       "      <td>1</td>\n",
       "      <td>1</td>\n",
       "      <td>49</td>\n",
       "      <td>2</td>\n",
       "      <td></td>\n",
       "      <td></td>\n",
       "      <td></td>\n",
       "      <td></td>\n",
       "      <td></td>\n",
       "      <td>...</td>\n",
       "      <td>2</td>\n",
       "      <td>2</td>\n",
       "      <td>2</td>\n",
       "      <td>9</td>\n",
       "      <td>3</td>\n",
       "      <td>4</td>\n",
       "      <td>3</td>\n",
       "      <td>1</td>\n",
       "      <td>2</td>\n",
       "      <td>3.123587</td>\n",
       "    </tr>\n",
       "    <tr>\n",
       "      <th>...</th>\n",
       "      <td>...</td>\n",
       "      <td>...</td>\n",
       "      <td>...</td>\n",
       "      <td>...</td>\n",
       "      <td>...</td>\n",
       "      <td>...</td>\n",
       "      <td>...</td>\n",
       "      <td>...</td>\n",
       "      <td>...</td>\n",
       "      <td>...</td>\n",
       "      <td>...</td>\n",
       "      <td>...</td>\n",
       "      <td>...</td>\n",
       "      <td>...</td>\n",
       "      <td>...</td>\n",
       "      <td>...</td>\n",
       "      <td>...</td>\n",
       "      <td>...</td>\n",
       "      <td>...</td>\n",
       "      <td>...</td>\n",
       "      <td>...</td>\n",
       "    </tr>\n",
       "    <tr>\n",
       "      <th>5995</th>\n",
       "      <td>500008</td>\n",
       "      <td>17</td>\n",
       "      <td>1</td>\n",
       "      <td>54</td>\n",
       "      <td>2</td>\n",
       "      <td></td>\n",
       "      <td></td>\n",
       "      <td></td>\n",
       "      <td></td>\n",
       "      <td></td>\n",
       "      <td>...</td>\n",
       "      <td>1</td>\n",
       "      <td>2</td>\n",
       "      <td>1</td>\n",
       "      <td>3</td>\n",
       "      <td>1</td>\n",
       "      <td>2</td>\n",
       "      <td>2</td>\n",
       "      <td>1</td>\n",
       "      <td>2</td>\n",
       "      <td>0.407848</td>\n",
       "    </tr>\n",
       "    <tr>\n",
       "      <th>5996</th>\n",
       "      <td>500009</td>\n",
       "      <td>17</td>\n",
       "      <td>2</td>\n",
       "      <td>48</td>\n",
       "      <td>2</td>\n",
       "      <td></td>\n",
       "      <td></td>\n",
       "      <td></td>\n",
       "      <td></td>\n",
       "      <td></td>\n",
       "      <td>...</td>\n",
       "      <td>2</td>\n",
       "      <td>2</td>\n",
       "      <td>3</td>\n",
       "      <td>4</td>\n",
       "      <td>2</td>\n",
       "      <td>4</td>\n",
       "      <td>4</td>\n",
       "      <td>1</td>\n",
       "      <td>2</td>\n",
       "      <td>0.419665</td>\n",
       "    </tr>\n",
       "    <tr>\n",
       "      <th>5997</th>\n",
       "      <td>500010</td>\n",
       "      <td>17</td>\n",
       "      <td>2</td>\n",
       "      <td>55</td>\n",
       "      <td>2</td>\n",
       "      <td></td>\n",
       "      <td></td>\n",
       "      <td></td>\n",
       "      <td></td>\n",
       "      <td></td>\n",
       "      <td>...</td>\n",
       "      <td>1</td>\n",
       "      <td>2</td>\n",
       "      <td>3</td>\n",
       "      <td>4</td>\n",
       "      <td>4</td>\n",
       "      <td>5</td>\n",
       "      <td>2</td>\n",
       "      <td>1</td>\n",
       "      <td>2</td>\n",
       "      <td>0.384253</td>\n",
       "    </tr>\n",
       "    <tr>\n",
       "      <th>5998</th>\n",
       "      <td>500011</td>\n",
       "      <td>17</td>\n",
       "      <td>2</td>\n",
       "      <td>61</td>\n",
       "      <td>2</td>\n",
       "      <td></td>\n",
       "      <td></td>\n",
       "      <td></td>\n",
       "      <td></td>\n",
       "      <td></td>\n",
       "      <td>...</td>\n",
       "      <td>1</td>\n",
       "      <td>2</td>\n",
       "      <td>2</td>\n",
       "      <td>4</td>\n",
       "      <td>3</td>\n",
       "      <td>3</td>\n",
       "      <td>2</td>\n",
       "      <td>1</td>\n",
       "      <td>2</td>\n",
       "      <td>0.331283</td>\n",
       "    </tr>\n",
       "    <tr>\n",
       "      <th>5999</th>\n",
       "      <td>500012</td>\n",
       "      <td>17</td>\n",
       "      <td>2</td>\n",
       "      <td>72</td>\n",
       "      <td>2</td>\n",
       "      <td></td>\n",
       "      <td></td>\n",
       "      <td></td>\n",
       "      <td></td>\n",
       "      <td></td>\n",
       "      <td>...</td>\n",
       "      <td>1</td>\n",
       "      <td>1</td>\n",
       "      <td>1</td>\n",
       "      <td>3</td>\n",
       "      <td>3</td>\n",
       "      <td>4</td>\n",
       "      <td>2</td>\n",
       "      <td>1</td>\n",
       "      <td>2</td>\n",
       "      <td>0.466721</td>\n",
       "    </tr>\n",
       "  </tbody>\n",
       "</table>\n",
       "<p>6000 rows × 237 columns</p>\n",
       "</div>"
      ],
      "text/plain": [
       "          ID  SQ1  DQ2  DQ3  Q1 Q2A_1 Q2B_1 Q3_1_1 Q3_1_2 Q3_2_1  ... BQ2 BQ3  \\\n",
       "0       1010    1    2   34   2                                   ...   2   2   \n",
       "1       1014    1    2   36   2                                   ...   2   3   \n",
       "2       1017    1    1   36   2                                   ...   1   3   \n",
       "3       1020    1    2   29   2                                   ...   1   2   \n",
       "4       1023    1    1   49   2                                   ...   2   2   \n",
       "...      ...  ...  ...  ...  ..   ...   ...    ...    ...    ...  ...  ..  ..   \n",
       "5995  500008   17    1   54   2                                   ...   1   2   \n",
       "5996  500009   17    2   48   2                                   ...   2   2   \n",
       "5997  500010   17    2   55   2                                   ...   1   2   \n",
       "5998  500011   17    2   61   2                                   ...   1   2   \n",
       "5999  500012   17    2   72   2                                   ...   1   1   \n",
       "\n",
       "     BQ4 BQ5 BQ6 BQ7 BQ8  BQ9 BQ10        WT  \n",
       "0      6   8   3   3   2    1    2  1.568452  \n",
       "1     10   8   3   2   1    2    2  1.568452  \n",
       "2      6   5   2   2   4    1    2  1.204343  \n",
       "3      6   3   2   2   1    2    2  0.916556  \n",
       "4      2   9   3   4   3    1    2  3.123587  \n",
       "...   ..  ..  ..  ..  ..  ...  ...       ...  \n",
       "5995   1   3   1   2   2    1    2  0.407848  \n",
       "5996   3   4   2   4   4    1    2  0.419665  \n",
       "5997   3   4   4   5   2    1    2  0.384253  \n",
       "5998   2   4   3   3   2    1    2  0.331283  \n",
       "5999   1   3   3   4   2    1    2  0.466721  \n",
       "\n",
       "[6000 rows x 237 columns]"
      ]
     },
     "execution_count": 101,
     "metadata": {},
     "output_type": "execute_result"
    }
   ],
   "source": [
    "data = pd.read_csv(\"data/2. 2024 언론수용자 조사_최종데이터.csv\")\n",
    "data"
   ]
  },
  {
   "cell_type": "markdown",
   "id": "b6325629",
   "metadata": {},
   "source": [
    "# 2. 데이터 정보 확인"
   ]
  },
  {
   "cell_type": "code",
   "execution_count": 102,
   "id": "b7fb55b1",
   "metadata": {},
   "outputs": [
    {
     "data": {
      "text/plain": [
       "(6000, 237)"
      ]
     },
     "execution_count": 102,
     "metadata": {},
     "output_type": "execute_result"
    }
   ],
   "source": [
    "data.shape"
   ]
  },
  {
   "cell_type": "code",
   "execution_count": 103,
   "id": "9a090e13",
   "metadata": {},
   "outputs": [
    {
     "data": {
      "text/plain": [
       "Index(['ID', 'SQ1', 'DQ2', 'DQ3', 'Q1', 'Q2A_1', 'Q2B_1', 'Q3_1_1', 'Q3_1_2',\n",
       "       'Q3_2_1',\n",
       "       ...\n",
       "       'BQ2', 'BQ3', 'BQ4', 'BQ5', 'BQ6', 'BQ7', 'BQ8', 'BQ9', 'BQ10', 'WT'],\n",
       "      dtype='object', length=237)"
      ]
     },
     "execution_count": 103,
     "metadata": {},
     "output_type": "execute_result"
    }
   ],
   "source": [
    "data.columns"
   ]
  },
  {
   "cell_type": "code",
   "execution_count": 104,
   "id": "63750032",
   "metadata": {},
   "outputs": [
    {
     "name": "stdout",
     "output_type": "stream",
     "text": [
      "<class 'pandas.core.frame.DataFrame'>\n",
      "RangeIndex: 6000 entries, 0 to 5999\n",
      "Columns: 237 entries, ID to WT\n",
      "dtypes: float64(1), int64(120), object(116)\n",
      "memory usage: 10.8+ MB\n"
     ]
    }
   ],
   "source": [
    "data.info()"
   ]
  },
  {
   "cell_type": "markdown",
   "id": "7baa59f3",
   "metadata": {},
   "source": [
    "# 3. 데이터 필터링"
   ]
  },
  {
   "cell_type": "markdown",
   "id": "6e870e26",
   "metadata": {},
   "source": [
    "## 1) 필수 카테고리 추출"
   ]
  },
  {
   "cell_type": "code",
   "execution_count": 105,
   "id": "2524bada",
   "metadata": {},
   "outputs": [
    {
     "name": "stdout",
     "output_type": "stream",
     "text": [
      "      DQ3   Q76 Q26_1 Q26_2\n",
      "0      34     5     1     2\n",
      "1      36  9998            \n",
      "2      36     2     1     2\n",
      "3      29  9998            \n",
      "4      49     5           2\n",
      "...   ...   ...   ...   ...\n",
      "5995   54     2     1      \n",
      "5996   48     2     1      \n",
      "5997   55     2     1      \n",
      "5998   61     2            \n",
      "5999   72     2     1      \n",
      "\n",
      "[6000 rows x 4 columns]\n"
     ]
    }
   ],
   "source": [
    "# ---------전체 언론 매체 이용 현황----------\n",
    "# 연령 : DQ3\n",
    "# 뉴스 및 시사정보 주 이용 경로 : Q76\n",
    "# ---------디지털 언론 매체 이용 현황---------\n",
    "# 인터넷을 통한 뉴스 이용 현황(연령별) : Q24_1(모바일) + Q24_2(PC)\n",
    "#\n",
    "\n",
    "new_data = data[[\"DQ3\", \"Q76\", \"Q26_1\", \"Q26_2\"]]\n",
    "print(new_data)"
   ]
  },
  {
   "cell_type": "code",
   "execution_count": 106,
   "id": "0acb009e",
   "metadata": {},
   "outputs": [
    {
     "name": "stdout",
     "output_type": "stream",
     "text": [
      "int64\n"
     ]
    }
   ],
   "source": [
    "print(new_data[\"Q76\"].dtype)"
   ]
  },
  {
   "cell_type": "code",
   "execution_count": 107,
   "id": "df25e0e6",
   "metadata": {},
   "outputs": [
    {
     "name": "stdout",
     "output_type": "stream",
     "text": [
      "      DQ3 Q76 Q26_1 Q26_2\n",
      "0      34   5     1     2\n",
      "1      36   2     1     2\n",
      "2      49   5           2\n",
      "3      43   5     1      \n",
      "4      53   3     1      \n",
      "...   ...  ..   ...   ...\n",
      "5475   54   2     1      \n",
      "5476   48   2     1      \n",
      "5477   55   2     1      \n",
      "5478   61   2            \n",
      "5479   72   2     1      \n",
      "\n",
      "[5480 rows x 4 columns]\n"
     ]
    },
    {
     "name": "stderr",
     "output_type": "stream",
     "text": [
      "C:\\Users\\user\\AppData\\Local\\Temp\\ipykernel_26632\\2458841676.py:1: SettingWithCopyWarning: \n",
      "A value is trying to be set on a copy of a slice from a DataFrame.\n",
      "Try using .loc[row_indexer,col_indexer] = value instead\n",
      "\n",
      "See the caveats in the documentation: https://pandas.pydata.org/pandas-docs/stable/user_guide/indexing.html#returning-a-view-versus-a-copy\n",
      "  new_data[\"Q76\"] = new_data[\"Q76\"].replace(9998, pd.NA)\n"
     ]
    }
   ],
   "source": [
    "new_data[\"Q76\"] = new_data[\"Q76\"].replace(9998, pd.NA)\n",
    "new_data = new_data.dropna().reset_index(drop=True)\n",
    "print(new_data)"
   ]
  },
  {
   "cell_type": "code",
   "execution_count": 108,
   "id": "ca65499d",
   "metadata": {},
   "outputs": [
    {
     "name": "stdout",
     "output_type": "stream",
     "text": [
      "Q76  1   2   3   4   5   6   7   8   9   10  11  12\n",
      "DQ3                                                \n",
      "19    0   4   0   0   9   0   0   1   1   0   0   0\n",
      "20    0   5   0   0  19   0   2   0   2   0   1   0\n",
      "21    1   6   0   0  24   0   0   0   0   0   0   1\n",
      "22    0   3   0   0  26   0   0   1   2   5   0   3\n",
      "23    0   4   0   0  18   0   1   1   1   2   1   0\n",
      "..   ..  ..  ..  ..  ..  ..  ..  ..  ..  ..  ..  ..\n",
      "88    0   4   0   0   0   0   0   0   0   0   0   0\n",
      "89    0   1   0   0   0   0   0   0   0   0   0   0\n",
      "90    0   1   0   0   0   0   0   0   0   0   0   0\n",
      "92    0   1   0   0   0   0   0   0   0   0   0   0\n",
      "95    0   3   0   0   0   0   0   1   0   0   0   0\n",
      "\n",
      "[74 rows x 12 columns]\n",
      "Q76     1           2    3    4          5    6         7          8   \\\n",
      "DQ3                                                                     \n",
      "19   0.000   26.666667  0.0  0.0  60.000000  0.0  0.000000   6.666667   \n",
      "20   0.000   17.241379  0.0  0.0  65.517241  0.0  6.896552   0.000000   \n",
      "21   3.125   18.750000  0.0  0.0  75.000000  0.0  0.000000   0.000000   \n",
      "22   0.000    7.500000  0.0  0.0  65.000000  0.0  0.000000   2.500000   \n",
      "23   0.000   14.285714  0.0  0.0  64.285714  0.0  3.571429   3.571429   \n",
      "..     ...         ...  ...  ...        ...  ...       ...        ...   \n",
      "88   0.000  100.000000  0.0  0.0   0.000000  0.0  0.000000   0.000000   \n",
      "89   0.000  100.000000  0.0  0.0   0.000000  0.0  0.000000   0.000000   \n",
      "90   0.000  100.000000  0.0  0.0   0.000000  0.0  0.000000   0.000000   \n",
      "92   0.000  100.000000  0.0  0.0   0.000000  0.0  0.000000   0.000000   \n",
      "95   0.000   75.000000  0.0  0.0   0.000000  0.0  0.000000  25.000000   \n",
      "\n",
      "Q76        9          10        11     12  \n",
      "DQ3                                        \n",
      "19   6.666667   0.000000  0.000000  0.000  \n",
      "20   6.896552   0.000000  3.448276  0.000  \n",
      "21   0.000000   0.000000  0.000000  3.125  \n",
      "22   5.000000  12.500000  0.000000  7.500  \n",
      "23   3.571429   7.142857  3.571429  0.000  \n",
      "..        ...        ...       ...    ...  \n",
      "88   0.000000   0.000000  0.000000  0.000  \n",
      "89   0.000000   0.000000  0.000000  0.000  \n",
      "90   0.000000   0.000000  0.000000  0.000  \n",
      "92   0.000000   0.000000  0.000000  0.000  \n",
      "95   0.000000   0.000000  0.000000  0.000  \n",
      "\n",
      "[74 rows x 12 columns]\n"
     ]
    }
   ],
   "source": [
    "# ---------전체 언론 매체 이용 현황----------\n",
    "# 연령 : DQ3\n",
    "# 뉴스 및 시사정보 주 이용 경로 : Q76\n",
    "# 경로별 이용자 수를 연령별로 집계\n",
    "route_stats = new_data.groupby(\"DQ3\")[\"Q76\"].value_counts().unstack(fill_value=0)\n",
    "print(route_stats)\n",
    "# 비율로 보기 원한다면:\n",
    "route_ratio = route_stats.div(route_stats.sum(axis=1), axis=0) * 100\n",
    "\n",
    "print(route_ratio)\n",
    "\n",
    "# ---------디지털 언론 매체 이용 현황---------\n",
    "# 인터넷을 통한 뉴스 이용 현황(연령별) : Q24_1(모바일) + Q24_2(PC)\n",
    "\n"
   ]
  },
  {
   "cell_type": "code",
   "execution_count": 109,
   "id": "9167ec7d",
   "metadata": {},
   "outputs": [
    {
     "data": {
      "text/html": [
       "<div>\n",
       "<style scoped>\n",
       "    .dataframe tbody tr th:only-of-type {\n",
       "        vertical-align: middle;\n",
       "    }\n",
       "\n",
       "    .dataframe tbody tr th {\n",
       "        vertical-align: top;\n",
       "    }\n",
       "\n",
       "    .dataframe thead th {\n",
       "        text-align: right;\n",
       "    }\n",
       "</style>\n",
       "<table border=\"1\" class=\"dataframe\">\n",
       "  <thead>\n",
       "    <tr style=\"text-align: right;\">\n",
       "      <th></th>\n",
       "      <th>DQ3</th>\n",
       "      <th>Q76</th>\n",
       "      <th>Q26_1</th>\n",
       "      <th>Q26_2</th>\n",
       "      <th>연령대</th>\n",
       "    </tr>\n",
       "  </thead>\n",
       "  <tbody>\n",
       "    <tr>\n",
       "      <th>0</th>\n",
       "      <td>34</td>\n",
       "      <td>5</td>\n",
       "      <td>1</td>\n",
       "      <td>2</td>\n",
       "      <td>30대</td>\n",
       "    </tr>\n",
       "    <tr>\n",
       "      <th>1</th>\n",
       "      <td>36</td>\n",
       "      <td>2</td>\n",
       "      <td>1</td>\n",
       "      <td>2</td>\n",
       "      <td>30대</td>\n",
       "    </tr>\n",
       "    <tr>\n",
       "      <th>2</th>\n",
       "      <td>49</td>\n",
       "      <td>5</td>\n",
       "      <td></td>\n",
       "      <td>2</td>\n",
       "      <td>40대</td>\n",
       "    </tr>\n",
       "    <tr>\n",
       "      <th>3</th>\n",
       "      <td>43</td>\n",
       "      <td>5</td>\n",
       "      <td>1</td>\n",
       "      <td></td>\n",
       "      <td>40대</td>\n",
       "    </tr>\n",
       "    <tr>\n",
       "      <th>4</th>\n",
       "      <td>53</td>\n",
       "      <td>3</td>\n",
       "      <td>1</td>\n",
       "      <td></td>\n",
       "      <td>50대</td>\n",
       "    </tr>\n",
       "    <tr>\n",
       "      <th>...</th>\n",
       "      <td>...</td>\n",
       "      <td>...</td>\n",
       "      <td>...</td>\n",
       "      <td>...</td>\n",
       "      <td>...</td>\n",
       "    </tr>\n",
       "    <tr>\n",
       "      <th>5475</th>\n",
       "      <td>54</td>\n",
       "      <td>2</td>\n",
       "      <td>1</td>\n",
       "      <td></td>\n",
       "      <td>50대</td>\n",
       "    </tr>\n",
       "    <tr>\n",
       "      <th>5476</th>\n",
       "      <td>48</td>\n",
       "      <td>2</td>\n",
       "      <td>1</td>\n",
       "      <td></td>\n",
       "      <td>40대</td>\n",
       "    </tr>\n",
       "    <tr>\n",
       "      <th>5477</th>\n",
       "      <td>55</td>\n",
       "      <td>2</td>\n",
       "      <td>1</td>\n",
       "      <td></td>\n",
       "      <td>50대</td>\n",
       "    </tr>\n",
       "    <tr>\n",
       "      <th>5478</th>\n",
       "      <td>61</td>\n",
       "      <td>2</td>\n",
       "      <td></td>\n",
       "      <td></td>\n",
       "      <td>60대</td>\n",
       "    </tr>\n",
       "    <tr>\n",
       "      <th>5479</th>\n",
       "      <td>72</td>\n",
       "      <td>2</td>\n",
       "      <td>1</td>\n",
       "      <td></td>\n",
       "      <td>70대</td>\n",
       "    </tr>\n",
       "  </tbody>\n",
       "</table>\n",
       "<p>5480 rows × 5 columns</p>\n",
       "</div>"
      ],
      "text/plain": [
       "      DQ3 Q76 Q26_1 Q26_2  연령대\n",
       "0      34   5     1     2  30대\n",
       "1      36   2     1     2  30대\n",
       "2      49   5           2  40대\n",
       "3      43   5     1        40대\n",
       "4      53   3     1        50대\n",
       "...   ...  ..   ...   ...  ...\n",
       "5475   54   2     1        50대\n",
       "5476   48   2     1        40대\n",
       "5477   55   2     1        50대\n",
       "5478   61   2              60대\n",
       "5479   72   2     1        70대\n",
       "\n",
       "[5480 rows x 5 columns]"
      ]
     },
     "execution_count": 109,
     "metadata": {},
     "output_type": "execute_result"
    }
   ],
   "source": [
    "import pandas as pd\n",
    "\n",
    "# 연령대 구간 설정\n",
    "bins = [20, 30, 40, 50, 60, 70, 80]  # 80은 upper bound\n",
    "labels = ['20대', '30대', '40대', '50대', '60대', '70대']\n",
    "\n",
    "# 연령대 컬럼 추가\n",
    "new_data['연령대'] = pd.cut(new_data['DQ3'], bins=bins, labels=labels, right=False)\n",
    "new_data"
   ]
  },
  {
   "cell_type": "code",
   "execution_count": 110,
   "id": "8030223d",
   "metadata": {},
   "outputs": [],
   "source": [
    "import seaborn as sns\n",
    "import matplotlib.pyplot as plt\n",
    "import koreanize_matplotlib"
   ]
  },
  {
   "cell_type": "code",
   "execution_count": 111,
   "id": "2934e898",
   "metadata": {},
   "outputs": [],
   "source": [
    "label_map = {\n",
    "    1: \"종이신문\",\n",
    "    2: \"텔레비전\",\n",
    "    3: \"라디오\",\n",
    "    4: \"잡지\",\n",
    "    5: \"인터넷포털/검색엔진\",\n",
    "    6: \"언론사 웹사이트나 앱\",\n",
    "    7: \"SNS\",\n",
    "    8: \"메신저\",\n",
    "    9: \"온라인 동영상 플랫폼\",\n",
    "    10: \"숏폼\",\n",
    "    11: \"인공지능 스피커\",\n",
    "    12: \"이메일 뉴스레터\",\n",
    "    13: \"없음\"\n",
    "}"
   ]
  },
  {
   "cell_type": "code",
   "execution_count": 112,
   "id": "6009370c",
   "metadata": {},
   "outputs": [],
   "source": [
    "new_data[\"Q76_라벨\"] = new_data[\"Q76\"].map(label_map)"
   ]
  },
  {
   "cell_type": "code",
   "execution_count": 113,
   "id": "883633e7",
   "metadata": {},
   "outputs": [
    {
     "name": "stderr",
     "output_type": "stream",
     "text": [
      "C:\\Users\\user\\AppData\\Local\\Temp\\ipykernel_26632\\3355134429.py:1: FutureWarning: The default of observed=False is deprecated and will be changed to True in a future version of pandas. Pass observed=False to retain current behavior or observed=True to adopt the future default and silence this warning.\n",
      "  stats = new_data.groupby('연령대')['Q76'].value_counts().unstack(fill_value=0)\n"
     ]
    }
   ],
   "source": [
    "stats = new_data.groupby('연령대')['Q76'].value_counts().unstack(fill_value=0)"
   ]
  },
  {
   "cell_type": "code",
   "execution_count": 114,
   "id": "8efacf61",
   "metadata": {},
   "outputs": [
    {
     "data": {
      "image/png": "[encoded data removed]",
      "text/plain": [
       "<Figure size 640x480 with 1 Axes>"
      ]
     },
     "metadata": {},
     "output_type": "display_data"
    }
   ],
   "source": [
    "import seaborn as sns\n",
    "import matplotlib.pyplot as plt\n",
    "\n",
    "sns.countplot(data=new_data, x=\"Q76_라벨\", order=new_data[\"Q76_라벨\"].value_counts().index)\n",
    "plt.xticks(rotation=45)\n",
    "plt.title(\"뉴스·시사정보 주 이용 경로 분포\")\n",
    "plt.xlabel(\"이용 경로\")\n",
    "plt.ylabel(\"응답자 수\")\n",
    "plt.tight_layout()\n",
    "plt.show()\n"
   ]
  },
  {
   "cell_type": "code",
   "execution_count": 115,
   "id": "f306ea05",
   "metadata": {},
   "outputs": [
    {
     "name": "stderr",
     "output_type": "stream",
     "text": [
      "C:\\Users\\user\\AppData\\Local\\Temp\\ipykernel_26632\\1576123867.py:3: FutureWarning: The default of observed=False is deprecated and will be changed to True in a future version of pandas. Pass observed=False to retain current behavior or observed=True to adopt the future default and silence this warning.\n",
      "  stats = new_data.groupby(\"연령대\")[\"Q76_라벨\"].value_counts().unstack(fill_value=0)\n"
     ]
    },
    {
     "data": {
      "image/png": "[encoded data removed]",
      "text/plain": [
       "<Figure size 1200x600 with 1 Axes>"
      ]
     },
     "metadata": {},
     "output_type": "display_data"
    }
   ],
   "source": [
    "import matplotlib.pyplot as plt\n",
    "\n",
    "stats = new_data.groupby(\"연령대\")[\"Q76_라벨\"].value_counts().unstack(fill_value=0)\n",
    "\n",
    "stats.plot(kind='bar', stacked=True, figsize=(12,6), colormap='tab20')\n",
    "plt.title(\"연령대별 뉴스·시사정보 주 이용 경로\")\n",
    "plt.xlabel(\"연령대\")\n",
    "plt.ylabel(\"응답자 수\")\n",
    "plt.legend(title=\"이용 경로\", bbox_to_anchor=(1.05, 1), loc='upper left')\n",
    "plt.tight_layout()\n",
    "plt.show()"
   ]
  },
  {
   "cell_type": "code",
   "execution_count": 116,
   "id": "ab6a5da7",
   "metadata": {},
   "outputs": [
    {
     "data": {
      "image/png": "[encoded data removed]",
      "text/plain": [
       "<Figure size 1200x600 with 1 Axes>"
      ]
     },
     "metadata": {},
     "output_type": "display_data"
    }
   ],
   "source": [
    "import matplotlib.pyplot as plt\n",
    "\n",
    "stats.plot(kind='bar', stacked=True, figsize=(12,6), colormap='tab20')\n",
    "plt.title(\"연령대별 뉴스·시사정보 주 이용 경로\")\n",
    "plt.xlabel(\"연령대\")\n",
    "plt.ylabel(\"응답자 수\")\n",
    "plt.legend(title=\"이용 경로\", bbox_to_anchor=(1.05, 1), loc='upper left')\n",
    "plt.tight_layout()\n",
    "plt.show()"
   ]
  },
  {
   "cell_type": "code",
   "execution_count": 117,
   "id": "1b10c95f",
   "metadata": {},
   "outputs": [
    {
     "data": {
      "text/html": [
       "<div>\n",
       "<style scoped>\n",
       "    .dataframe tbody tr th:only-of-type {\n",
       "        vertical-align: middle;\n",
       "    }\n",
       "\n",
       "    .dataframe tbody tr th {\n",
       "        vertical-align: top;\n",
       "    }\n",
       "\n",
       "    .dataframe thead th {\n",
       "        text-align: right;\n",
       "    }\n",
       "</style>\n",
       "<table border=\"1\" class=\"dataframe\">\n",
       "  <thead>\n",
       "    <tr style=\"text-align: right;\">\n",
       "      <th></th>\n",
       "      <th>DQ3</th>\n",
       "      <th>Q76</th>\n",
       "      <th>Q26_1</th>\n",
       "      <th>Q26_2</th>\n",
       "      <th>연령대</th>\n",
       "      <th>Q76_라벨</th>\n",
       "    </tr>\n",
       "  </thead>\n",
       "  <tbody>\n",
       "    <tr>\n",
       "      <th>0</th>\n",
       "      <td>34</td>\n",
       "      <td>5</td>\n",
       "      <td>1</td>\n",
       "      <td>2</td>\n",
       "      <td>30대</td>\n",
       "      <td>인터넷포털/검색엔진</td>\n",
       "    </tr>\n",
       "    <tr>\n",
       "      <th>1</th>\n",
       "      <td>36</td>\n",
       "      <td>2</td>\n",
       "      <td>1</td>\n",
       "      <td>2</td>\n",
       "      <td>30대</td>\n",
       "      <td>텔레비전</td>\n",
       "    </tr>\n",
       "    <tr>\n",
       "      <th>2</th>\n",
       "      <td>49</td>\n",
       "      <td>5</td>\n",
       "      <td></td>\n",
       "      <td>2</td>\n",
       "      <td>40대</td>\n",
       "      <td>인터넷포털/검색엔진</td>\n",
       "    </tr>\n",
       "    <tr>\n",
       "      <th>3</th>\n",
       "      <td>43</td>\n",
       "      <td>5</td>\n",
       "      <td>1</td>\n",
       "      <td></td>\n",
       "      <td>40대</td>\n",
       "      <td>인터넷포털/검색엔진</td>\n",
       "    </tr>\n",
       "    <tr>\n",
       "      <th>4</th>\n",
       "      <td>53</td>\n",
       "      <td>3</td>\n",
       "      <td>1</td>\n",
       "      <td></td>\n",
       "      <td>50대</td>\n",
       "      <td>라디오</td>\n",
       "    </tr>\n",
       "    <tr>\n",
       "      <th>...</th>\n",
       "      <td>...</td>\n",
       "      <td>...</td>\n",
       "      <td>...</td>\n",
       "      <td>...</td>\n",
       "      <td>...</td>\n",
       "      <td>...</td>\n",
       "    </tr>\n",
       "    <tr>\n",
       "      <th>5475</th>\n",
       "      <td>54</td>\n",
       "      <td>2</td>\n",
       "      <td>1</td>\n",
       "      <td></td>\n",
       "      <td>50대</td>\n",
       "      <td>텔레비전</td>\n",
       "    </tr>\n",
       "    <tr>\n",
       "      <th>5476</th>\n",
       "      <td>48</td>\n",
       "      <td>2</td>\n",
       "      <td>1</td>\n",
       "      <td></td>\n",
       "      <td>40대</td>\n",
       "      <td>텔레비전</td>\n",
       "    </tr>\n",
       "    <tr>\n",
       "      <th>5477</th>\n",
       "      <td>55</td>\n",
       "      <td>2</td>\n",
       "      <td>1</td>\n",
       "      <td></td>\n",
       "      <td>50대</td>\n",
       "      <td>텔레비전</td>\n",
       "    </tr>\n",
       "    <tr>\n",
       "      <th>5478</th>\n",
       "      <td>61</td>\n",
       "      <td>2</td>\n",
       "      <td></td>\n",
       "      <td></td>\n",
       "      <td>60대</td>\n",
       "      <td>텔레비전</td>\n",
       "    </tr>\n",
       "    <tr>\n",
       "      <th>5479</th>\n",
       "      <td>72</td>\n",
       "      <td>2</td>\n",
       "      <td>1</td>\n",
       "      <td></td>\n",
       "      <td>70대</td>\n",
       "      <td>텔레비전</td>\n",
       "    </tr>\n",
       "  </tbody>\n",
       "</table>\n",
       "<p>5480 rows × 6 columns</p>\n",
       "</div>"
      ],
      "text/plain": [
       "      DQ3 Q76 Q26_1 Q26_2  연령대      Q76_라벨\n",
       "0      34   5     1     2  30대  인터넷포털/검색엔진\n",
       "1      36   2     1     2  30대        텔레비전\n",
       "2      49   5           2  40대  인터넷포털/검색엔진\n",
       "3      43   5     1        40대  인터넷포털/검색엔진\n",
       "4      53   3     1        50대         라디오\n",
       "...   ...  ..   ...   ...  ...         ...\n",
       "5475   54   2     1        50대        텔레비전\n",
       "5476   48   2     1        40대        텔레비전\n",
       "5477   55   2     1        50대        텔레비전\n",
       "5478   61   2              60대        텔레비전\n",
       "5479   72   2     1        70대        텔레비전\n",
       "\n",
       "[5480 rows x 6 columns]"
      ]
     },
     "execution_count": 117,
     "metadata": {},
     "output_type": "execute_result"
    }
   ],
   "source": [
    "new_data"
   ]
  },
  {
   "cell_type": "code",
   "execution_count": 133,
   "id": "c3885043",
   "metadata": {},
   "outputs": [
    {
     "name": "stdout",
     "output_type": "stream",
     "text": [
      "Q26_1에서 1의 응답 수: 5480\n"
     ]
    }
   ],
   "source": [
    "count_q26_1 = new_data[\"Q26_1\"].count()\n",
    "print(\"Q26_1에서 1의 응답 수:\", count_q26_1)"
   ]
  },
  {
   "cell_type": "code",
   "execution_count": 124,
   "id": "bd980302",
   "metadata": {},
   "outputs": [
    {
     "data": {
      "text/plain": [
       "연령대\n",
       "20대    1430\n",
       "30대    1592\n",
       "40대    1976\n",
       "50대    2232\n",
       "60대    2030\n",
       "70대    1506\n",
       "Name: count, dtype: int64"
      ]
     },
     "execution_count": 124,
     "metadata": {},
     "output_type": "execute_result"
    }
   ],
   "source": [
    "age_counts = combined['연령대'].value_counts().sort_index()\n",
    "age_counts"
   ]
  },
  {
   "cell_type": "code",
   "execution_count": null,
   "id": "0a2565be",
   "metadata": {},
   "outputs": [
    {
     "data": {
      "image/png": "[encoded data removed]",
      "text/plain": [
       "<Figure size 1000x600 with 1 Axes>"
      ]
     },
     "metadata": {},
     "output_type": "display_data"
    }
   ],
   "source": [
    "import matplotlib.pyplot as plt\n",
    "\n",
    "plt.figure(figsize=(10,6))\n",
    "age_counts.plot(kind='bar', color='steelblue')\n",
    "plt.title(\"연령대별 인터넷 뉴스 이용 응답자 수\")\n",
    "plt.xlabel(\"연령대\")\n",
    "plt.ylabel(\"응답자 수\")\n",
    "plt.xticks(rotation=0)\n",
    "plt.tight_layout()\n",
    "plt.show()"
   ]
  }
 ],
 "metadata": {
  "kernelspec": {
   "display_name": "myproject",
   "language": "python",
   "name": "python3"
  },
  "language_info": {
   "codemirror_mode": {
    "name": "ipython",
    "version": 3
   },
   "file_extension": ".py",
   "mimetype": "text/x-python",
   "name": "python",
   "nbconvert_exporter": "python",
   "pygments_lexer": "ipython3",
   "version": "3.10.18"
  }
 },
 "nbformat": 4,
 "nbformat_minor": 5
}
