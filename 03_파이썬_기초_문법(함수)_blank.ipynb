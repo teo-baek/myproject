{
 "cells": [
  {
   "cell_type": "markdown",
   "metadata": {},
   "source": [
    "# 1. 함수"
   ]
  },
  {
   "cell_type": "markdown",
   "metadata": {},
   "source": [
    "## 1) 표현"
   ]
  },
  {
   "cell_type": "code",
   "execution_count": null,
   "metadata": {},
   "outputs": [],
   "source": [
    "# def 함수이름:\n",
    "#     실행코드"
   ]
  },
  {
   "cell_type": "code",
   "execution_count": 2,
   "metadata": {},
   "outputs": [],
   "source": [
    "# hello를 출력하는 함수\n",
    "def hello():\n",
    "    print(\"hello\")"
   ]
  },
  {
   "cell_type": "code",
   "execution_count": 3,
   "metadata": {},
   "outputs": [
    {
     "name": "stdout",
     "output_type": "stream",
     "text": [
      "hello\n"
     ]
    }
   ],
   "source": [
    "hello()"
   ]
  },
  {
   "cell_type": "code",
   "execution_count": 4,
   "metadata": {},
   "outputs": [
    {
     "name": "stdout",
     "output_type": "stream",
     "text": [
      "hello\n",
      "None\n"
     ]
    }
   ],
   "source": [
    "massage = hello()\n",
    "print(massage)"
   ]
  },
  {
   "cell_type": "markdown",
   "metadata": {},
   "source": [
    "## 2) return"
   ]
  },
  {
   "cell_type": "code",
   "execution_count": 5,
   "metadata": {},
   "outputs": [],
   "source": [
    "# hello를 반환하는 함수\n",
    "def hello():\n",
    "    return \"hello\""
   ]
  },
  {
   "cell_type": "code",
   "execution_count": 6,
   "metadata": {},
   "outputs": [
    {
     "data": {
      "text/plain": [
       "'hello'"
      ]
     },
     "execution_count": 6,
     "metadata": {},
     "output_type": "execute_result"
    }
   ],
   "source": [
    "hello()"
   ]
  },
  {
   "cell_type": "code",
   "execution_count": 7,
   "metadata": {},
   "outputs": [
    {
     "name": "stdout",
     "output_type": "stream",
     "text": [
      "hello\n"
     ]
    }
   ],
   "source": [
    "massage = hello()\n",
    "print(massage)"
   ]
  },
  {
   "cell_type": "code",
   "execution_count": null,
   "metadata": {},
   "outputs": [],
   "source": [
    "# x, y를 넣으면 덧셈해주고 그 값을 반환하는 함수\n",
    "def calc_add(x:int, y:int) -> int:\n",
    "    \"\"\"\n",
    "    입력값을 더해주는 함수\n",
    "    \"\"\"\n",
    "    return x + y"
   ]
  },
  {
   "cell_type": "code",
   "execution_count": 11,
   "metadata": {},
   "outputs": [
    {
     "name": "stdout",
     "output_type": "stream",
     "text": [
      "5\n"
     ]
    }
   ],
   "source": [
    "result = calc_add(2, 3)\n",
    "print(result)"
   ]
  },
  {
   "cell_type": "markdown",
   "metadata": {},
   "source": [
    "## 3) 매개변수"
   ]
  },
  {
   "cell_type": "code",
   "execution_count": 13,
   "metadata": {},
   "outputs": [],
   "source": [
    "# 이름과 나이를 입력하면 \"홍길동님의 나이는 34세입니다\"라고 출력해주는 함수\n",
    "def prt_info(name, age):\n",
    "    print(f\"{name}님의 나이는 {age}세입니다\")"
   ]
  },
  {
   "cell_type": "code",
   "execution_count": 15,
   "metadata": {},
   "outputs": [
    {
     "name": "stdout",
     "output_type": "stream",
     "text": [
      "홍길동님의 나이는 34세입니다\n"
     ]
    }
   ],
   "source": [
    "prt_info(\"홍길동\", 34)"
   ]
  },
  {
   "cell_type": "code",
   "execution_count": 22,
   "metadata": {},
   "outputs": [],
   "source": [
    "# 이름과 나이를 입력하면 \"홍길동님의 나이는 34세 남성입니다\"라고 출력해주는 함수\n",
    "def prt_info(name, age, gender=\"남성\", details=None):\n",
    "    print(f\"{name}님의 나이는 {age}세 {gender}입니다\")\n",
    "    print(f\"상세사항: {details}\")"
   ]
  },
  {
   "cell_type": "code",
   "execution_count": 23,
   "metadata": {},
   "outputs": [
    {
     "name": "stdout",
     "output_type": "stream",
     "text": [
      "34님의 나이는 홍길동세 남성입니다\n",
      "상세사항: 여수 사람입니다.\n"
     ]
    }
   ],
   "source": [
    "prt_info(34, \"홍길동\", \"남성\", \"여수 사람입니다.\")"
   ]
  },
  {
   "cell_type": "code",
   "execution_count": 26,
   "metadata": {},
   "outputs": [
    {
     "data": {
      "text/plain": [
       "74.0"
      ]
     },
     "execution_count": 26,
     "metadata": {},
     "output_type": "execute_result"
    }
   ],
   "source": [
    "# *args **kwargs\n",
    "# 시험 성적의 평균을 반환하는 함수\n",
    "def get_avg_score(*args):\n",
    "    # 평균 = 점수의 합 / 과목의 개수\n",
    "    count = len(args)\n",
    "    average = sum(args) / count\n",
    "    \n",
    "    return average\n",
    "\n",
    "get_avg_score(90, 66, 66)"
   ]
  },
  {
   "cell_type": "code",
   "execution_count": 27,
   "metadata": {},
   "outputs": [
    {
     "name": "stdout",
     "output_type": "stream",
     "text": [
      "name: 홍길동\n",
      "math: 90\n",
      "science: 80\n"
     ]
    }
   ],
   "source": [
    "# **kwargs\n",
    "# 학생의 시험점수를 한눈에 보이게 출력해주는 함수\n",
    "# name: 홍길동\n",
    "# science : 80\n",
    "# ...\n",
    "def prt_score(**kwargs):\n",
    "    for key, value in kwargs.items():\n",
    "        print(f\"{key}: {value}\")\n",
    "\n",
    "prt_score(name=\"홍길동\", math=90, science=80)"
   ]
  },
  {
   "cell_type": "markdown",
   "metadata": {},
   "source": [
    "## 4) lambda 함수"
   ]
  },
  {
   "cell_type": "code",
   "execution_count": 28,
   "metadata": {},
   "outputs": [
    {
     "name": "stdout",
     "output_type": "stream",
     "text": [
      "8\n"
     ]
    }
   ],
   "source": [
    "calc_add = lambda x, y: x + y\n",
    "print(calc_add(2, 6))"
   ]
  },
  {
   "cell_type": "code",
   "execution_count": 57,
   "metadata": {},
   "outputs": [
    {
     "name": "stdout",
     "output_type": "stream",
     "text": [
      "노트북 1200000\n",
      "모니터 290000\n"
     ]
    }
   ],
   "source": [
    "# 15만원 이상인 상품들만 딕셔너리로 만들고 싶어요\n",
    "wishlist = {\"노트북\": 1200000, \"마우스\": 33000, \"키보드\": 110000, \"모니터\": 290000}\n",
    "\n",
    "for key, value in wishlist.items():\n",
    "    if value >= 150000:\n",
    "        print(key, value)  "
   ]
  },
  {
   "cell_type": "code",
   "execution_count": 67,
   "metadata": {},
   "outputs": [
    {
     "name": "stdout",
     "output_type": "stream",
     "text": [
      "{'노트북': 1200000, '모니터': 290000}\n"
     ]
    }
   ],
   "source": [
    "# 15만원 이상인 상품들만 딕셔너리로 만들고 싶어요\n",
    "\n",
    "def new_dict(item_list):\n",
    "    coo = {}\n",
    "    for key, value in item_list.items():\n",
    "        if value >= 150000:\n",
    "            coo[key] = value\n",
    "    return coo\n",
    "\n",
    "wishlist = {\"노트북\": 1200000, \"마우스\": 33000, \"키보드\": 110000, \"모니터\": 290000}\n",
    "\n",
    "choice = new_dict(wishlist)\n",
    "print(choice)"
   ]
  },
  {
   "cell_type": "code",
   "execution_count": 82,
   "metadata": {},
   "outputs": [
    {
     "ename": "ValueError",
     "evalue": "too many values to unpack (expected 2)",
     "output_type": "error",
     "traceback": [
      "\u001b[1;31m---------------------------------------------------------------------------\u001b[0m",
      "\u001b[1;31mValueError\u001b[0m                                Traceback (most recent call last)",
      "Cell \u001b[1;32mIn[82], line 4\u001b[0m\n\u001b[0;32m      2\u001b[0m wishlist \u001b[38;5;241m=\u001b[39m {\u001b[38;5;124m\"\u001b[39m\u001b[38;5;124m노트북\u001b[39m\u001b[38;5;124m\"\u001b[39m: \u001b[38;5;241m1200000\u001b[39m, \u001b[38;5;124m\"\u001b[39m\u001b[38;5;124m마우스\u001b[39m\u001b[38;5;124m\"\u001b[39m: \u001b[38;5;241m33000\u001b[39m, \u001b[38;5;124m\"\u001b[39m\u001b[38;5;124m키보드\u001b[39m\u001b[38;5;124m\"\u001b[39m: \u001b[38;5;241m110000\u001b[39m, \u001b[38;5;124m\"\u001b[39m\u001b[38;5;124m모니터\u001b[39m\u001b[38;5;124m\"\u001b[39m: \u001b[38;5;241m290000\u001b[39m}\n\u001b[0;32m      3\u001b[0m new_dict \u001b[38;5;241m=\u001b[39m \u001b[38;5;28;01mlambda\u001b[39;00m wishlist: {key : value \u001b[38;5;28;01mfor\u001b[39;00m key, value \u001b[38;5;129;01min\u001b[39;00m wishlist  \u001b[38;5;28;01mif\u001b[39;00m value \u001b[38;5;241m>\u001b[39m\u001b[38;5;241m=\u001b[39m \u001b[38;5;241m150000\u001b[39m}\n\u001b[1;32m----> 4\u001b[0m oa \u001b[38;5;241m=\u001b[39m \u001b[43mnew_dict\u001b[49m\u001b[43m(\u001b[49m\u001b[43mwishlist\u001b[49m\u001b[43m)\u001b[49m\n\u001b[0;32m      6\u001b[0m \u001b[38;5;28mprint\u001b[39m(oa)\n",
      "Cell \u001b[1;32mIn[82], line 3\u001b[0m, in \u001b[0;36m<lambda>\u001b[1;34m(wishlist)\u001b[0m\n\u001b[0;32m      1\u001b[0m \u001b[38;5;66;03m# 15만원 이상인 상품들만 딕셔너리로 만들고 싶어요\u001b[39;00m\n\u001b[0;32m      2\u001b[0m wishlist \u001b[38;5;241m=\u001b[39m {\u001b[38;5;124m\"\u001b[39m\u001b[38;5;124m노트북\u001b[39m\u001b[38;5;124m\"\u001b[39m: \u001b[38;5;241m1200000\u001b[39m, \u001b[38;5;124m\"\u001b[39m\u001b[38;5;124m마우스\u001b[39m\u001b[38;5;124m\"\u001b[39m: \u001b[38;5;241m33000\u001b[39m, \u001b[38;5;124m\"\u001b[39m\u001b[38;5;124m키보드\u001b[39m\u001b[38;5;124m\"\u001b[39m: \u001b[38;5;241m110000\u001b[39m, \u001b[38;5;124m\"\u001b[39m\u001b[38;5;124m모니터\u001b[39m\u001b[38;5;124m\"\u001b[39m: \u001b[38;5;241m290000\u001b[39m}\n\u001b[1;32m----> 3\u001b[0m new_dict \u001b[38;5;241m=\u001b[39m \u001b[38;5;28;01mlambda\u001b[39;00m wishlist: {key : value \u001b[38;5;28;01mfor\u001b[39;00m key, value \u001b[38;5;129;01min\u001b[39;00m wishlist  \u001b[38;5;28;01mif\u001b[39;00m value \u001b[38;5;241m>\u001b[39m\u001b[38;5;241m=\u001b[39m \u001b[38;5;241m150000\u001b[39m}\n\u001b[0;32m      4\u001b[0m oa \u001b[38;5;241m=\u001b[39m new_dict(wishlist)\n\u001b[0;32m      6\u001b[0m \u001b[38;5;28mprint\u001b[39m(oa)\n",
      "Cell \u001b[1;32mIn[82], line 3\u001b[0m, in \u001b[0;36m<dictcomp>\u001b[1;34m(.0)\u001b[0m\n\u001b[0;32m      1\u001b[0m \u001b[38;5;66;03m# 15만원 이상인 상품들만 딕셔너리로 만들고 싶어요\u001b[39;00m\n\u001b[0;32m      2\u001b[0m wishlist \u001b[38;5;241m=\u001b[39m {\u001b[38;5;124m\"\u001b[39m\u001b[38;5;124m노트북\u001b[39m\u001b[38;5;124m\"\u001b[39m: \u001b[38;5;241m1200000\u001b[39m, \u001b[38;5;124m\"\u001b[39m\u001b[38;5;124m마우스\u001b[39m\u001b[38;5;124m\"\u001b[39m: \u001b[38;5;241m33000\u001b[39m, \u001b[38;5;124m\"\u001b[39m\u001b[38;5;124m키보드\u001b[39m\u001b[38;5;124m\"\u001b[39m: \u001b[38;5;241m110000\u001b[39m, \u001b[38;5;124m\"\u001b[39m\u001b[38;5;124m모니터\u001b[39m\u001b[38;5;124m\"\u001b[39m: \u001b[38;5;241m290000\u001b[39m}\n\u001b[1;32m----> 3\u001b[0m new_dict \u001b[38;5;241m=\u001b[39m \u001b[38;5;28;01mlambda\u001b[39;00m wishlist: {key : value \u001b[38;5;28;01mfor\u001b[39;00m key, value \u001b[38;5;129;01min\u001b[39;00m wishlist  \u001b[38;5;28;01mif\u001b[39;00m value \u001b[38;5;241m>\u001b[39m\u001b[38;5;241m=\u001b[39m \u001b[38;5;241m150000\u001b[39m}\n\u001b[0;32m      4\u001b[0m oa \u001b[38;5;241m=\u001b[39m new_dict(wishlist)\n\u001b[0;32m      6\u001b[0m \u001b[38;5;28mprint\u001b[39m(oa)\n",
      "\u001b[1;31mValueError\u001b[0m: too many values to unpack (expected 2)"
     ]
    }
   ],
   "source": [
    "# 15만원 이상인 상품들만 딕셔너리로 만들고 싶어요\n",
    "wishlist = {\"노트북\": 1200000, \"마우스\": 33000, \"키보드\": 110000, \"모니터\": 290000}\n",
    "new_dict = lambda wishlist: {key : value for key, value in wishlist  if value >= 150000}\n",
    "oa = new_dict(wishlist)\n",
    "\n",
    "print(oa)"
   ]
  },
  {
   "cell_type": "markdown",
   "metadata": {},
   "source": [
    "# 2. 파일 읽기/쓰기"
   ]
  },
  {
   "cell_type": "markdown",
   "metadata": {},
   "source": [
    "## 1) os"
   ]
  },
  {
   "cell_type": "code",
   "execution_count": 83,
   "metadata": {},
   "outputs": [
    {
     "name": "stdout",
     "output_type": "stream",
     "text": [
      "c:\\Users\\user\\myproject\n"
     ]
    }
   ],
   "source": [
    "import os \n",
    "\n",
    "# 현재 위치\n",
    "print(os.getcwd())"
   ]
  },
  {
   "cell_type": "code",
   "execution_count": 84,
   "metadata": {},
   "outputs": [],
   "source": [
    "# 파일 만들기\n",
    "os.mkdir(\"test\")"
   ]
  },
  {
   "cell_type": "markdown",
   "metadata": {},
   "source": [
    "## 2) 파일 생성/읽기/추가"
   ]
  },
  {
   "cell_type": "markdown",
   "metadata": {},
   "source": [
    "### 생성"
   ]
  },
  {
   "cell_type": "code",
   "execution_count": 85,
   "metadata": {},
   "outputs": [],
   "source": [
    "import os\n",
    "\n",
    "# 폴더 만들기\n",
    "os.mkdir(\"data\")"
   ]
  },
  {
   "cell_type": "code",
   "execution_count": 86,
   "metadata": {},
   "outputs": [],
   "source": [
    "with open(\"data/mytext.txt\", \"w\", encoding=\"utf-8\") as f:\n",
    "    f.write(\"hello\")"
   ]
  },
  {
   "cell_type": "code",
   "execution_count": 87,
   "metadata": {},
   "outputs": [],
   "source": [
    "with open(\"data/mytext.txt\", \"w\", encoding=\"utf-8\") as f:\n",
    "    f.write(\"hi python\")"
   ]
  },
  {
   "cell_type": "markdown",
   "metadata": {},
   "source": [
    "### 읽기"
   ]
  },
  {
   "cell_type": "code",
   "execution_count": null,
   "metadata": {},
   "outputs": [],
   "source": []
  },
  {
   "cell_type": "markdown",
   "metadata": {},
   "source": [
    "### 추가"
   ]
  },
  {
   "cell_type": "code",
   "execution_count": 89,
   "metadata": {},
   "outputs": [],
   "source": [
    "with open(\"data/mytext.txt\", \"a\", encoding=\"utf-8\") as f:\n",
    "    f.write(\"\\nhello\")"
   ]
  },
  {
   "cell_type": "code",
   "execution_count": 94,
   "metadata": {},
   "outputs": [],
   "source": [
    "reviews = [\n",
    "    \"너무너무 맛있어요\",\n",
    "    \"서비스 주셔서 감사합니다\",\n",
    "    \"뭐지?\"\n",
    "]"
   ]
  },
  {
   "cell_type": "code",
   "execution_count": 96,
   "metadata": {},
   "outputs": [],
   "source": [
    "with open(\"data/reviews.txt\", mode=\"a\", encoding=\"utf-8\") as f:\n",
    "    for review in reviews:\n",
    "        f.write(review + \"\\n\")"
   ]
  },
  {
   "cell_type": "markdown",
   "metadata": {},
   "source": [
    "# 3. 예외 처리"
   ]
  },
  {
   "cell_type": "code",
   "execution_count": null,
   "metadata": {},
   "outputs": [],
   "source": [
    "# 나눗셈 함수 만들기\n",
    "def devide(x, y):\n",
    "    return x / y"
   ]
  },
  {
   "cell_type": "code",
   "execution_count": 97,
   "metadata": {},
   "outputs": [
    {
     "ename": "NameError",
     "evalue": "name 'devide' is not defined",
     "output_type": "error",
     "traceback": [
      "\u001b[1;31m---------------------------------------------------------------------------\u001b[0m",
      "\u001b[1;31mNameError\u001b[0m                                 Traceback (most recent call last)",
      "Cell \u001b[1;32mIn[97], line 1\u001b[0m\n\u001b[1;32m----> 1\u001b[0m result \u001b[38;5;241m=\u001b[39m \u001b[43mdevide\u001b[49m(\u001b[38;5;241m5\u001b[39m, \u001b[38;5;241m0\u001b[39m)\n\u001b[0;32m      2\u001b[0m \u001b[38;5;28mprint\u001b[39m(result)\n",
      "\u001b[1;31mNameError\u001b[0m: name 'devide' is not defined"
     ]
    }
   ],
   "source": [
    "result = devide(5, 0)\n",
    "print(result)"
   ]
  },
  {
   "cell_type": "code",
   "execution_count": null,
   "metadata": {},
   "outputs": [],
   "source": [
    "try: \n",
    "    devide(5, 0)\n",
    "except:\n",
    "    pass"
   ]
  },
  {
   "cell_type": "code",
   "execution_count": null,
   "metadata": {},
   "outputs": [],
   "source": [
    "try: \n",
    "    devide(5, 0)\n",
    "except:\n",
    "    print(\"잘못된 입력입니다.\")"
   ]
  },
  {
   "cell_type": "code",
   "execution_count": 100,
   "metadata": {},
   "outputs": [
    {
     "name": "stdout",
     "output_type": "stream",
     "text": [
      "NameError\n",
      "name 'devide' is not defined\n"
     ]
    }
   ],
   "source": [
    "try: \n",
    "    devide(5, 0)\n",
    "except Exception as e:\n",
    "    print(type(e).__name__)\n",
    "    print(e)"
   ]
  }
 ],
 "metadata": {
  "kernelspec": {
   "display_name": "myproject",
   "language": "python",
   "name": "python3"
  },
  "language_info": {
   "codemirror_mode": {
    "name": "ipython",
    "version": 3
   },
   "file_extension": ".py",
   "mimetype": "text/x-python",
   "name": "python",
   "nbconvert_exporter": "python",
   "pygments_lexer": "ipython3",
   "version": "3.10.18"
  }
 },
 "nbformat": 4,
 "nbformat_minor": 2
}
